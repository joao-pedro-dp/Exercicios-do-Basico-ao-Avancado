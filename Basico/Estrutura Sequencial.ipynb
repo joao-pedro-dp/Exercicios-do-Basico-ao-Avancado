{
 "cells": [
  {
   "cell_type": "markdown",
   "id": "bb0f9514",
   "metadata": {
    "id": "bb0f9514"
   },
   "source": [
    "# Lista de Estrutura Sequencial"
   ]
  },
  {
   "cell_type": "markdown",
   "id": "4e7a8c30",
   "metadata": {
    "id": "4e7a8c30"
   },
   "source": [
    "#### 1. Faça um Programa que mostre a mensagem (print) \"Alo mundo\" na tela."
   ]
  },
  {
   "cell_type": "code",
   "execution_count": 4,
   "id": "883bfe85",
   "metadata": {
    "id": "883bfe85"
   },
   "outputs": [
    {
     "name": "stdout",
     "output_type": "stream",
     "text": [
      "Alo mundo\n"
     ]
    }
   ],
   "source": [
    "# Programa para exibir a mensagem \"Alo mundo\" na tela\n",
    "def exibir_mensagem():\n",
    "    \"\"\"\n",
    "    Função que exibe a mensagem 'Alo mundo' na tela.\n",
    "    \"\"\"\n",
    "    print(\"Alo mundo\")\n",
    "\n",
    "# Chamada da função\n",
    "exibir_mensagem()\n"
   ]
  },
  {
   "cell_type": "markdown",
   "id": "71d6d6a2",
   "metadata": {
    "id": "71d6d6a2"
   },
   "source": [
    "#### 2. Faça um Programa que peça um número (input) e então mostre a mensagem: \"O número informado foi [número].\""
   ]
  },
  {
   "cell_type": "code",
   "execution_count": 5,
   "id": "8e116d7c",
   "metadata": {},
   "outputs": [
    {
     "name": "stdout",
     "output_type": "stream",
     "text": [
      "O número informado foi: 10.0\n",
      "O número informado foi: 1.0\n",
      "O número informado foi: 5.0\n",
      "Encerrando o programa. Até logo!\n"
     ]
    }
   ],
   "source": [
    "def numero():\n",
    "    \"\"\"\n",
    "    Função que solicita ao usuário um número ou comando de saída e exibe o número informado.\n",
    "    Exibe uma mensagem de encerramento quando o comando de saída é inserido.\n",
    "    \n",
    "    A função continua a solicitar a entrada até que 'sair' ou 'exit' seja digitado.\n",
    "    \"\"\"\n",
    "    while True:\n",
    "        try:\n",
    "            # Solicitar entrada do usuário\n",
    "            numeros = input(\"Informe o número ou digite 'sair' ou 'exit': \").strip().lower()\n",
    "            \n",
    "            # Verificar se o comando de saída foi inserido\n",
    "            if numeros in [\"sair\", \"exit\"]:\n",
    "                print(\"Encerrando o programa. Até logo!\")\n",
    "                break\n",
    "\n",
    "            # Tentar converter a entrada em um número\n",
    "            convert = float(numeros)\n",
    "            print(f\"O número informado foi: {convert}\")\n",
    "                \n",
    "        except ValueError:\n",
    "            # Tratamento para entradas inválidas\n",
    "            print(\"Entrada inválida, favor digitar um número.\")\n",
    "\n",
    "# Chamada da função\n",
    "numero()\n"
   ]
  },
  {
   "cell_type": "markdown",
   "id": "c5e43160",
   "metadata": {
    "id": "c5e43160"
   },
   "source": [
    "#### 3. Faça um Programa que peça dois números e imprima a soma."
   ]
  },
  {
   "cell_type": "code",
   "execution_count": 6,
   "id": "b0e79590",
   "metadata": {
    "id": "b0e79590"
   },
   "outputs": [
    {
     "name": "stdout",
     "output_type": "stream",
     "text": [
      "A soma dos números é 8.0\n"
     ]
    }
   ],
   "source": [
    "def soma():\n",
    "    \"\"\"\n",
    "    Função que solicita ao usuário dois números e imprime a soma.\n",
    "    A função lida com entradas inválidas e pede novamente até receber dois números válidos.\n",
    "    \"\"\"\n",
    "    lista_soma = []\n",
    "    \n",
    "    # Continuar solicitando números até que dois números válidos sejam inseridos\n",
    "    while len(lista_soma) < 2:\n",
    "        try:\n",
    "            # Solicitar número\n",
    "            numero = float(input(f\"Informe o número {len(lista_soma) + 1}: \"))\n",
    "            lista_soma.append(numero)\n",
    "        except ValueError:\n",
    "            # Tratamento para entradas inválidas\n",
    "            print(\"Entrada inválida, favor digitar um número.\")\n",
    "\n",
    "    # Calcular e exibir a soma\n",
    "    resultado = sum(lista_soma)\n",
    "    print(f\"A soma dos números é {resultado}\")\n",
    "\n",
    "# Chamada da função\n",
    "soma()\n"
   ]
  },
  {
   "cell_type": "markdown",
   "id": "17826987",
   "metadata": {
    "id": "17826987"
   },
   "source": [
    "#### 4. Faça um Programa que peça as 4 notas bimestrais de um aluno e mostre a média de todas as notas."
   ]
  },
  {
   "cell_type": "code",
   "execution_count": 7,
   "id": "23b66762",
   "metadata": {
    "id": "23b66762"
   },
   "outputs": [
    {
     "name": "stdout",
     "output_type": "stream",
     "text": [
      "A média das notas é 2.75\n",
      "Encerrando o programa. Até logo!\n"
     ]
    }
   ],
   "source": [
    "def media_notas(user):\n",
    "    \"\"\"\n",
    "    Função que solicita ao usuário uma quantidade específica de notas e calcula a média.\n",
    "    Lida com entradas inválidas e garante que as notas estejam entre 0 e 10.\n",
    "    \n",
    "    Parâmetros:\n",
    "    user (int): O número de notas que o usuário deseja fornecer.\n",
    "    \n",
    "    Retorna:\n",
    "    float: A média das notas fornecidas.\n",
    "    \"\"\"\n",
    "    lista_notas = []\n",
    "    \n",
    "    # Solicita notas até que a quantidade desejada seja atingida\n",
    "    while len(lista_notas) < user:\n",
    "        try:\n",
    "            nota1 = float(input(f\"Passa a nota {len(lista_notas)+1} (de 0 a 10): \"))\n",
    "            \n",
    "            # Verifica se a nota está no intervalo permitido\n",
    "            if 0 <= nota1 <= 10:\n",
    "                lista_notas.append(nota1)\n",
    "            else:\n",
    "                print(\"Uma nota de 0 a 10\")\n",
    "        except ValueError:\n",
    "            # Trata entradas que não podem ser convertidas para número\n",
    "            print(\"Entrada inválida, favor digitar um número\")\n",
    "    \n",
    "    # Calcula e exibe a média das notas\n",
    "    media = sum(lista_notas) / len(lista_notas)\n",
    "    print(\"A média das notas é\", media)\n",
    "    return media\n",
    "\n",
    "def pede_quantidade():\n",
    "    \"\"\"\n",
    "    Função que solicita ao usuário a quantidade de notas que deseja inserir para o cálculo da média.\n",
    "    Permite encerrar o programa digitando 'sair' ou 'exit'.\n",
    "    \"\"\"\n",
    "    while True:\n",
    "        try:\n",
    "            # Solicita a quantidade de notas ou permite sair do programa\n",
    "            user = input(\"Qual a quantidade de notas para média? (ou digite 'sair' para encerrar): \").strip().lower()\n",
    "            \n",
    "            # Verifica se o usuário deseja encerrar o programa\n",
    "            if user in [\"sair\", \"exit\"]:\n",
    "                print(\"Encerrando o programa. Até logo!\")\n",
    "                break\n",
    "            \n",
    "            # Verifica se a entrada é um número inteiro\n",
    "            if user.isdigit():\n",
    "                user = int(user)\n",
    "                media_notas(user)\n",
    "            else:\n",
    "                print(\"Digite um número inteiro por favor\")\n",
    "        except ValueError:\n",
    "            # Trata entradas inválidas\n",
    "            print(\"Entrada inválida, favor digitar um número inteiro\")\n",
    "\n",
    "# Chamada da função principal\n",
    "pede_quantidade()\n"
   ]
  },
  {
   "cell_type": "markdown",
   "id": "62d461c5",
   "metadata": {
    "id": "62d461c5"
   },
   "source": [
    "#### 5. Faça um Programa que converta metros para centímetros. Você pode pedir o comprimento em metros para o usuário (input)."
   ]
  },
  {
   "cell_type": "code",
   "execution_count": 8,
   "id": "d642f1ba",
   "metadata": {
    "id": "d642f1ba"
   },
   "outputs": [
    {
     "name": "stdout",
     "output_type": "stream",
     "text": [
      "A conversão de 150.0 metros para centímetros é: 15000.0\n",
      "Encerrando o programa. Até logo!\n"
     ]
    }
   ],
   "source": [
    "def metros():\n",
    "    \"\"\"\n",
    "    Função que converte metros para centímetros.\n",
    "    Solicita ao usuário uma quantidade de metros e exibe a conversão correspondente.\n",
    "    Permite encerrar o programa digitando 'sair' ou 'exit'.\n",
    "    \"\"\"\n",
    "    while True:\n",
    "        try:\n",
    "            # Solicita a quantidade de metros ou permite sair do programa\n",
    "            user = input(\"Qual a quantidade de metros? (ou digite 'sair' para encerrar): \").strip().lower()\n",
    "            \n",
    "            # Verifica se o usuário deseja encerrar o programa\n",
    "            if user in [\"sair\", \"exit\"]:\n",
    "                print(\"Encerrando o programa. Até logo!\")\n",
    "                break  \n",
    "            \n",
    "            # Converte a entrada para float e calcula a conversão para centímetros\n",
    "            converte = float(user)\n",
    "            centimentro = converte * 100\n",
    "            print(f\"A conversão de {converte} metros para centímetros é: {centimentro}\")\n",
    "            \n",
    "        except ValueError:\n",
    "            # Trata entradas inválidas\n",
    "            print(\"Entrada inválida, favor digitar a metragem\")\n",
    "\n",
    "# Chamada da função\n",
    "metros()\n",
    "\n",
    "        "
   ]
  },
  {
   "cell_type": "markdown",
   "id": "f1311697",
   "metadata": {
    "id": "f1311697"
   },
   "source": [
    "#### 6. Faça um Programa que calcule a área de uma sala de um apartamento. Para isso, o seu programa precisa pedir a largura da sala, o comprimento da sala e imprimir a área em m² da sala."
   ]
  },
  {
   "cell_type": "code",
   "execution_count": 9,
   "id": "612ea24b",
   "metadata": {
    "id": "612ea24b"
   },
   "outputs": [
    {
     "name": "stdout",
     "output_type": "stream",
     "text": [
      "A área é: 50.0\n"
     ]
    },
    {
     "data": {
      "text/plain": [
       "50.0"
      ]
     },
     "execution_count": 9,
     "metadata": {},
     "output_type": "execute_result"
    }
   ],
   "source": [
    "def calcula_area():\n",
    "    \"\"\"\n",
    "    Função que calcula a área de um retângulo com base no comprimento e na largura fornecidos pelo usuário.\n",
    "    Lida com entradas inválidas e solicita novamente até receber números válidos.\n",
    "    \n",
    "    Retorna:\n",
    "    float: A área calculada.\n",
    "    \"\"\"\n",
    "    comprimento = None\n",
    "    largura = None\n",
    "\n",
    "    # Continua solicitando valores até que ambos comprimento e largura sejam fornecidos corretamente\n",
    "    while comprimento is None or largura is None:\n",
    "        try:\n",
    "            if comprimento is None:\n",
    "                comprimento = float(input(\"Informe o comprimento: \"))\n",
    "            if largura is None:\n",
    "                largura = float(input(\"Informe a largura: \"))\n",
    "        except ValueError:\n",
    "            # Tratamento de entradas inválidas\n",
    "            print(\"Entrada inválida, favor digitar um número válido.\")\n",
    "            if comprimento is not None and largura is None:\n",
    "                continue  # Continua pedindo a largura se o comprimento já foi inserido\n",
    "            else:\n",
    "                comprimento = None  # Reseta ambos os valores em caso de erro\n",
    "\n",
    "    # Calcula e exibe a área do retângulo\n",
    "    area = comprimento * largura\n",
    "    print(\"A área é:\", area)\n",
    "    return area\n",
    "\n",
    "# Chamada da função\n",
    "calcula_area()\n"
   ]
  },
  {
   "cell_type": "markdown",
   "id": "2a285929",
   "metadata": {
    "id": "2a285929"
   },
   "source": [
    "#### 7. Faça um Programa que pergunte quanto você ganha por hora e o número de horas trabalhadas no mês. Calcule e mostre o total do seu salário no referido mês."
   ]
  },
  {
   "cell_type": "code",
   "execution_count": 10,
   "id": "359e2232",
   "metadata": {
    "id": "359e2232"
   },
   "outputs": [
    {
     "name": "stdout",
     "output_type": "stream",
     "text": [
      "O salário do mês será: 920.0\n"
     ]
    },
    {
     "data": {
      "text/plain": [
       "920.0"
      ]
     },
     "execution_count": 10,
     "metadata": {},
     "output_type": "execute_result"
    }
   ],
   "source": [
    "def calcula_salario():\n",
    "    \"\"\"\n",
    "    Função que calcula o salário mensal com base no valor ganho por hora e no número de horas trabalhadas.\n",
    "    Lida com entradas inválidas e solicita novamente até receber números válidos.\n",
    "    \n",
    "    Retorna:\n",
    "    float: O salário total do mês.\n",
    "    \"\"\"\n",
    "    dinheiro = None\n",
    "    hora = None\n",
    "\n",
    "    # Continua solicitando os valores até que ambos (dinheiro e horas) sejam fornecidos corretamente\n",
    "    while dinheiro is None or hora is None:\n",
    "        try:\n",
    "            if dinheiro is None:\n",
    "                dinheiro = float(input(\"Informe o dinheiro ganhado por hora: \"))\n",
    "            if hora is None:\n",
    "                hora = float(input(\"Informe a quantidade de horas trabalhadas por mês: \"))\n",
    "        except ValueError:\n",
    "            # Tratamento de entradas inválidas\n",
    "            print(\"Entrada inválida, favor digitar um número válido.\")\n",
    "            if dinheiro is not None and hora is None:\n",
    "                continue  # Continua pedindo as horas se o valor por hora já foi inserido\n",
    "            else:\n",
    "                dinheiro = None  # Reseta ambos os valores em caso de erro\n",
    "\n",
    "    # Calcula e exibe o salário mensal\n",
    "    tutu = dinheiro * hora\n",
    "    print(\"O salário do mês será:\", tutu)\n",
    "    return tutu\n",
    "\n",
    "# Chamada da função\n",
    "calcula_salario()\n"
   ]
  },
  {
   "cell_type": "markdown",
   "id": "7e2d4615",
   "metadata": {
    "id": "7e2d4615"
   },
   "source": [
    "#### 8. Vamos criar um conversor de temperatura. Faça um Programa que peça a temperatura em graus Fahrenheit, transforme e mostre a temperatura em graus Celsius.\n",
    "$C = \\frac{5}{9}(F-32)$"
   ]
  },
  {
   "cell_type": "code",
   "execution_count": 11,
   "id": "82daf9fd",
   "metadata": {
    "id": "82daf9fd"
   },
   "outputs": [
    {
     "name": "stdout",
     "output_type": "stream",
     "text": [
      "A temperatura em graus Celsius será: 138.33333333333334\n",
      "A temperatura em graus Celsius arredondado será: 138.33\n"
     ]
    },
    {
     "data": {
      "text/plain": [
       "(138.33333333333334, 138.33)"
      ]
     },
     "execution_count": 11,
     "metadata": {},
     "output_type": "execute_result"
    }
   ],
   "source": [
    "def fah_para_cel():\n",
    "    \"\"\"\n",
    "    Função que converte uma temperatura fornecida em Fahrenheit para Celsius.\n",
    "    Lida com entradas inválidas e solicita novamente até receber um número válido.\n",
    "    \n",
    "    Retorna:\n",
    "    tuple: Temperatura em Celsius (precisa e arredondada).\n",
    "    \"\"\"\n",
    "    while True:\n",
    "        try:\n",
    "            # Solicita a temperatura em Fahrenheit\n",
    "            fah = float(input(\"Informe a temperatura em Fahrenheit: \"))\n",
    "\n",
    "        except ValueError: \n",
    "            # Trata entradas inválidas\n",
    "            print(\"Entrada inválida, favor digitar um número\")\n",
    "\n",
    "        # Converte para Celsius\n",
    "        c = ((5/9) * (fah - 32))\n",
    "        c_arredondado = round(c, 2)  # Arredonda o valor para 2 casas decimais\n",
    "\n",
    "        # Exibe os resultados\n",
    "        print(\"A temperatura em graus Celsius será:\", c)\n",
    "        print(\"A temperatura em graus Celsius arredondado será:\", c_arredondado)\n",
    "        \n",
    "        return c, c_arredondado\n",
    "\n",
    "# Chamada da função\n",
    "fah_para_cel()\n",
    " "
   ]
  },
  {
   "cell_type": "markdown",
   "id": "20708b1c",
   "metadata": {
    "id": "20708b1c"
   },
   "source": [
    "#### 9. Faça um Programa que peça a temperatura em graus Celsius, transforme e mostre em graus Fahrenheit.\n",
    "$F = \\frac{9}{5}C + 32$"
   ]
  },
  {
   "cell_type": "code",
   "execution_count": 12,
   "id": "c73cfb38",
   "metadata": {
    "id": "c73cfb38"
   },
   "outputs": [
    {
     "name": "stdout",
     "output_type": "stream",
     "text": [
      "A temperatura em graus Fahrenheit será: 2253.2000000000003\n",
      "A temperatura em graus Fahrenheit arredondado será: 2253.2\n"
     ]
    },
    {
     "data": {
      "text/plain": [
       "(2253.2000000000003, 2253.2)"
      ]
     },
     "execution_count": 12,
     "metadata": {},
     "output_type": "execute_result"
    }
   ],
   "source": [
    "def cel_para_fah():\n",
    "    \"\"\"\n",
    "    Função que converte uma temperatura fornecida em Celsius para Fahrenheit.\n",
    "    Lida com entradas inválidas e solicita novamente até receber um número válido.\n",
    "    \n",
    "    Retorna:\n",
    "    tuple: Temperatura em Fahrenheit (precisa e arredondada).\n",
    "    \"\"\"\n",
    "    while True:\n",
    "        try:\n",
    "            # Solicita a temperatura em Celsius\n",
    "            cel = float(input(\"Informe a temperatura em Celsius: \"))\n",
    "\n",
    "        except ValueError: \n",
    "            # Trata entradas inválidas\n",
    "            print(\"Entrada inválida, favor digitar um número\")\n",
    "\n",
    "        # Converte para Fahrenheit\n",
    "        f = (((9/5) * cel) + 32)\n",
    "        f_arredondado = round(f, 2)  # Arredonda o valor para 2 casas decimais\n",
    "\n",
    "        # Exibe os resultados\n",
    "        print(\"A temperatura em graus Fahrenheit será:\", f)\n",
    "        print(\"A temperatura em graus Fahrenheit arredondado será:\", f_arredondado)\n",
    "        \n",
    "        return f, f_arredondado\n",
    "\n",
    "# Chamada da função\n",
    "cel_para_fah()\n"
   ]
  },
  {
   "cell_type": "markdown",
   "id": "b263a9dc",
   "metadata": {
    "id": "b263a9dc"
   },
   "source": [
    "#### 10. Tendo como dados de entrada a altura (h) de uma pessoa, construa um algoritmo que calcule seu peso ideal, usando a seguinte fórmula:\n",
    "$P = 72,7h - 58$"
   ]
  },
  {
   "cell_type": "code",
   "execution_count": 13,
   "id": "9a9b8dca",
   "metadata": {
    "id": "9a9b8dca"
   },
   "outputs": [
    {
     "name": "stdout",
     "output_type": "stream",
     "text": [
      "O seu peso ideal será: 72.86000000000001 KG \n",
      "O seu peso ideal arredondado será: 72.86 KG \n"
     ]
    },
    {
     "data": {
      "text/plain": [
       "(72.86000000000001, 72.86)"
      ]
     },
     "execution_count": 13,
     "metadata": {},
     "output_type": "execute_result"
    }
   ],
   "source": [
    "def peso_ideal():\n",
    "    \"\"\"\n",
    "    Função que calcula o peso ideal com base na altura fornecida pelo usuário, utilizando a fórmula de Peso Ideal de Hélio Gracie.\n",
    "    Lida com entradas inválidas e solicita novamente até receber um número válido.\n",
    "    \n",
    "    Retorna:\n",
    "    tuple: Peso ideal (preciso e arredondado).\n",
    "    \"\"\"\n",
    "    while True:\n",
    "        try:\n",
    "            # Solicita a altura do usuário em metros\n",
    "            altura = float(input(\"Informe a sua altura em METROS: \"))\n",
    "\n",
    "        except ValueError: \n",
    "            # Trata entradas inválidas\n",
    "            print(\"Entrada inválida, favor digitar um número\")\n",
    "\n",
    "        # Calcula o peso ideal usando a fórmula de Hélio Gracie\n",
    "        calculo = ((72.7 * altura) - 58)\n",
    "        calculo_arredondado = round(calculo, 2)  # Arredonda o resultado para 2 casas decimais\n",
    "\n",
    "        # Exibe os resultados\n",
    "        print(f\"O seu peso ideal será: {calculo} KG \")\n",
    "        print(f\"O seu peso ideal arredondado será: {calculo_arredondado} KG \")\n",
    "        \n",
    "        return calculo, calculo_arredondado\n",
    "\n",
    "# Chamada da função\n",
    "peso_ideal()\n"
   ]
  },
  {
   "cell_type": "markdown",
   "id": "13bb40d7",
   "metadata": {
    "id": "13bb40d7"
   },
   "source": [
    "#### 11. Tendo como dado de entrada a altura (h) de uma pessoa, construa um algoritmo que calcule seu peso ideal, utilizando as seguintes fórmulas:\n",
    "##### a. Para homens: $P = 72,7h - 58$\n",
    "##### b. Para mulheres: $P = 62,1h - 44,7$"
   ]
  },
  {
   "cell_type": "code",
   "execution_count": 14,
   "id": "bf82dc8c",
   "metadata": {
    "id": "bf82dc8c"
   },
   "outputs": [
    {
     "name": "stdout",
     "output_type": "stream",
     "text": [
      "O seu peso ideal será: 67.08 KG \n"
     ]
    },
    {
     "data": {
      "text/plain": [
       "67.08"
      ]
     },
     "execution_count": 14,
     "metadata": {},
     "output_type": "execute_result"
    }
   ],
   "source": [
    "def pede_escolha():\n",
    "    \"\"\"\n",
    "    Função que solicita ao usuário o sexo (H ou M) e retorna a escolha.\n",
    "    A função lida com entradas inválidas e continua pedindo até receber uma resposta válida.\n",
    "    \n",
    "    Retorna:\n",
    "    str: O sexo do usuário ('h' ou 'm').\n",
    "    \"\"\"\n",
    "    while True: \n",
    "        try:\n",
    "            # Solicita o sexo do usuário (H ou M)\n",
    "            sexo = input(\"Qual o seu sexo? (H ou M): \").lower()\n",
    "            if sexo in (\"h\", \"m\"):\n",
    "                return sexo\n",
    "        except ValueError: \n",
    "            # Trata entradas inválidas\n",
    "            print(\"Entrada inválida, favor digitar um número\")\n",
    "\n",
    "def pede_altura():\n",
    "    \"\"\"\n",
    "    Função que solicita a altura do usuário em metros e retorna o valor.\n",
    "    Lida com entradas inválidas e continua pedindo até receber um número válido.\n",
    "    \n",
    "    Retorna:\n",
    "    float: A altura do usuário em metros.\n",
    "    \"\"\"\n",
    "    while True: \n",
    "        try:\n",
    "            # Solicita a altura do usuário em metros\n",
    "            altura = float(input(\"Informe a sua altura em METROS: \"))\n",
    "            return altura\n",
    "        except ValueError: \n",
    "            # Trata entradas inválidas\n",
    "            print(\"Entrada inválida, favor digitar sua altura em METROS.\")\n",
    "\n",
    "def calcula():\n",
    "    \"\"\"\n",
    "    Função que calcula o peso ideal com base no sexo e altura fornecidos.\n",
    "    Utiliza fórmulas diferentes dependendo do sexo (masculino ou feminino).\n",
    "    Lida com entradas inválidas e exibe o peso ideal do usuário.\n",
    "    \n",
    "    Retorna:\n",
    "    float: O peso ideal calculado.\n",
    "    \"\"\"\n",
    "    while True:\n",
    "        try:\n",
    "            # Solicita o sexo e a altura\n",
    "            sexo = pede_escolha()\n",
    "            altura = pede_altura()\n",
    "\n",
    "            # Calcula o peso ideal dependendo do sexo\n",
    "            if sexo == \"m\":\n",
    "                calculo = ((62.1 * altura) - 44.7)  # Fórmula para mulheres\n",
    "            else:\n",
    "                calculo = ((72.7 * altura) - 58)   # Fórmula para homens\n",
    "\n",
    "            # Exibe o peso ideal calculado\n",
    "            print(f\"O seu peso ideal será: {calculo} KG \")\n",
    "            break\n",
    "        except ValueError: \n",
    "            # Trata qualquer erro inesperado\n",
    "            print(\"Erro\")\n",
    "\n",
    "    return calculo\n",
    "\n",
    "# Chamada da função\n",
    "calcula()\n"
   ]
  },
  {
   "cell_type": "markdown",
   "id": "f208ef89",
   "metadata": {
    "id": "f208ef89"
   },
   "source": [
    "#### 12. Faça um Programa que pergunte quanto você ganha por hora e o número de horas trabalhadas no mês."
   ]
  },
  {
   "cell_type": "code",
   "execution_count": 15,
   "id": "2d5b23e0",
   "metadata": {
    "id": "2d5b23e0"
   },
   "outputs": [
    {
     "data": {
      "text/plain": [
       "[100.0, 64.0]"
      ]
     },
     "execution_count": 15,
     "metadata": {},
     "output_type": "execute_result"
    }
   ],
   "source": [
    "def pergunta():\n",
    "    \"\"\"\n",
    "    Função que solicita ao usuário o valor do dinheiro ganho por hora e a quantidade de horas trabalhadas por mês.\n",
    "    Lida com entradas inválidas e solicita novamente até que ambos os valores sejam válidos.\n",
    "    \n",
    "    Retorna:\n",
    "    list: Uma lista contendo o valor ganho por hora e a quantidade de horas trabalhadas no mês.\n",
    "    \"\"\"\n",
    "    horas = None\n",
    "    numero_hora = None\n",
    "\n",
    "    while horas is None or numero_hora is None:\n",
    "        try:\n",
    "            # Solicita o valor do dinheiro ganho por hora\n",
    "            if horas is None:\n",
    "                horas = float(input(\"Informe o dinheiro ganhado por hora: \"))\n",
    "            # Solicita a quantidade de horas trabalhadas por mês\n",
    "            if numero_hora is None:\n",
    "                numero_hora = float(input(\"Informe a quantidade de horas trabalhadas por mês: \"))\n",
    "        except ValueError:\n",
    "            # Trata entradas inválidas e solicita novamente\n",
    "            print(\"Entrada inválida, favor digitar um número válido.\")\n",
    "            # Continua pedindo a quantidade de horas trabalhadas até receber um valor válido\n",
    "            if horas is not None and numero_hora is None:\n",
    "                continue\n",
    "            else:\n",
    "                horas = None\n",
    "                numero_hora = None\n",
    "\n",
    "    return [horas, numero_hora]\n",
    "\n",
    "# Chamada da função\n",
    "pergunta()\n"
   ]
  },
  {
   "cell_type": "markdown",
   "id": "607dee3c",
   "metadata": {
    "id": "607dee3c"
   },
   "source": [
    "#####  Calcule o salário bruto (horas * salario por hora)"
   ]
  },
  {
   "cell_type": "code",
   "execution_count": 16,
   "id": "7f80ccbb",
   "metadata": {
    "id": "7f80ccbb"
   },
   "outputs": [
    {
     "data": {
      "text/plain": [
       "6400.0"
      ]
     },
     "execution_count": 16,
     "metadata": {},
     "output_type": "execute_result"
    }
   ],
   "source": [
    "def salario_bruto():\n",
    "    \"\"\"\n",
    "    Função que calcula o salário bruto com base no valor do dinheiro ganho por hora e na quantidade de horas trabalhadas por mês.\n",
    "    Utiliza os dados obtidos pela função 'pergunta' para calcular o salário bruto.\n",
    "    \n",
    "    Retorna:\n",
    "    float: O salário bruto calculado.\n",
    "    \"\"\"\n",
    "    # Obtém os dados (horas e salário por hora) chamando a função 'pergunta'\n",
    "    pega_dados = pergunta()\n",
    "    horas = pega_dados[0]  # Valor ganho por hora\n",
    "    salario = pega_dados[1]  # Quantidade de horas trabalhadas por mês\n",
    "    \n",
    "    # Calcula o salário bruto multiplicando as horas pelo salário\n",
    "    bruto = horas * salario\n",
    "    \n",
    "    return bruto\n",
    "\n",
    "# Chamada da função\n",
    "salario_bruto()\n"
   ]
  },
  {
   "cell_type": "markdown",
   "id": "2ed93cb0",
   "metadata": {
    "id": "2ed93cb0"
   },
   "source": [
    "##### Calcule o desconto do IR (11% do salário bruto)"
   ]
  },
  {
   "cell_type": "code",
   "execution_count": 17,
   "id": "3363e22f",
   "metadata": {
    "id": "3363e22f"
   },
   "outputs": [
    {
     "data": {
      "text/plain": [
       "330.0"
      ]
     },
     "execution_count": 17,
     "metadata": {},
     "output_type": "execute_result"
    }
   ],
   "source": [
    "def desconto_IR(bruto):\n",
    "    \"\"\"\n",
    "    Função que calcula o desconto de imposto de renda sobre o salário bruto.\n",
    "    O cálculo é feito com base em uma alíquota de 11%.\n",
    "    \n",
    "    Parâmetros:\n",
    "    bruto (float): O valor do salário bruto a ser calculado.\n",
    "    \n",
    "    Retorna:\n",
    "    float: O valor do imposto de renda a ser descontado.\n",
    "    \"\"\"\n",
    "    # Calcula o imposto de renda com base no salário bruto (11%)\n",
    "    imposto = bruto * (11 / 100)\n",
    "    \n",
    "    return imposto\n",
    "\n",
    "# Chamada da função\n",
    "desconto_IR(3000)  # Exemplo de chamada com salário bruto de 3000\n"
   ]
  },
  {
   "cell_type": "markdown",
   "id": "0994b2c0",
   "metadata": {
    "id": "0994b2c0"
   },
   "source": [
    "##### Calcule o desconto do INSS (8% do salário bruto)"
   ]
  },
  {
   "cell_type": "code",
   "execution_count": 18,
   "id": "748c6088",
   "metadata": {
    "id": "748c6088"
   },
   "outputs": [
    {
     "data": {
      "text/plain": [
       "240.0"
      ]
     },
     "execution_count": 18,
     "metadata": {},
     "output_type": "execute_result"
    }
   ],
   "source": [
    "def desconto_inss(bruto):\n",
    "    \"\"\"\n",
    "    Função que calcula o desconto de INSS sobre o salário bruto.\n",
    "    O cálculo é feito com base em uma alíquota de 8%.\n",
    "    \n",
    "    Parâmetros:\n",
    "    bruto (float): O valor do salário bruto a ser calculado.\n",
    "    \n",
    "    Retorna:\n",
    "    float: O valor do desconto de INSS a ser aplicado.\n",
    "    \"\"\"\n",
    "    # Calcula o desconto do INSS com base no salário bruto (8%)\n",
    "    imposto = bruto * (8 / 100)\n",
    "    \n",
    "    return imposto\n",
    "\n",
    "# Chamada da função\n",
    "desconto_inss(3000)  # Exemplo de chamada com salário bruto de 3000\n"
   ]
  },
  {
   "cell_type": "markdown",
   "id": "06e8dae4",
   "metadata": {
    "id": "06e8dae4"
   },
   "source": [
    "##### Calcule o desconto do sindicato (5% do salário bruto)"
   ]
  },
  {
   "cell_type": "code",
   "execution_count": 19,
   "id": "21b95b15",
   "metadata": {
    "id": "21b95b15",
    "scrolled": true
   },
   "outputs": [
    {
     "data": {
      "text/plain": [
       "150.0"
      ]
     },
     "execution_count": 19,
     "metadata": {},
     "output_type": "execute_result"
    }
   ],
   "source": [
    "def desconto_sindicato(bruto):\n",
    "    \"\"\"\n",
    "    Função que calcula o desconto para o sindicato sobre o salário bruto.\n",
    "    O cálculo é feito com base em uma alíquota de 5%.\n",
    "    \n",
    "    Parâmetros:\n",
    "    bruto (float): O valor do salário bruto a ser calculado.\n",
    "    \n",
    "    Retorna:\n",
    "    float: O valor do desconto para o sindicato a ser aplicado.\n",
    "    \"\"\"\n",
    "    # Calcula o desconto do sindicato com base no salário bruto (5%)\n",
    "    imposto = bruto * (5 / 100)\n",
    "    \n",
    "    return imposto\n",
    "\n",
    "# Chamada da função\n",
    "desconto_sindicato(3000)  # Exemplo de chamada com salário bruto de 3000\n"
   ]
  },
  {
   "cell_type": "markdown",
   "id": "bb14ce36",
   "metadata": {
    "id": "bb14ce36"
   },
   "source": [
    "##### Calcule o salário líquido (salário bruto - descontos)"
   ]
  },
  {
   "cell_type": "code",
   "execution_count": 21,
   "id": "56317086",
   "metadata": {
    "id": "56317086"
   },
   "outputs": [
    {
     "name": "stdout",
     "output_type": "stream",
     "text": [
      "\n",
      "Resumo do salário:\n",
      "\n",
      "Salário Bruto: R$ 6400.00\n",
      "Desconto IR: R$ 704.00\n",
      "Desconto INSS: R$ 512.00\n",
      "Desconto Sindicato: R$ 320.00\n",
      "Salário Líquido: R$ 4864.00\n"
     ]
    },
    {
     "data": {
      "text/plain": [
       "4864.0"
      ]
     },
     "execution_count": 21,
     "metadata": {},
     "output_type": "execute_result"
    }
   ],
   "source": [
    "def main():\n",
    "    \"\"\"\n",
    "    Função principal que calcula o salário bruto, descontos de IR, INSS e sindicato, \n",
    "    e o salário líquido com base nos dados informados pelo usuário.\n",
    "    \n",
    "    Passos:\n",
    "    1. Chama a função 'salario_bruto' para calcular o salário bruto.\n",
    "    2. Chama as funções 'desconto_IR', 'desconto_inss' e 'desconto_sindicato' \n",
    "       para calcular os descontos sobre o salário bruto.\n",
    "    3. Calcula o salário líquido subtraindo os descontos do salário bruto.\n",
    "    4. Exibe um resumo do salário bruto, descontos e salário líquido.\n",
    "    \n",
    "    Retorna:\n",
    "    float: O salário líquido calculado após os descontos.\n",
    "    \"\"\"\n",
    "    # Calcula o salário bruto\n",
    "    bruto = salario_bruto()\n",
    "\n",
    "    # Calcula os descontos de IR, INSS e Sindicato\n",
    "    ir = desconto_IR(bruto)\n",
    "    inss = desconto_inss(bruto)\n",
    "    sindicato = desconto_sindicato(bruto)\n",
    "\n",
    "    # Calcula o salário líquido subtraindo os descontos do salário bruto\n",
    "    salario_liquido = bruto - (ir + inss + sindicato)\n",
    "\n",
    "    # Exibe o resumo do salário com os descontos\n",
    "    print(f\"\\nResumo do salário:\\n\")\n",
    "    print(f\"Salário Bruto: R$ {bruto:.2f}\")\n",
    "    print(f\"Desconto IR: R$ {ir:.2f}\")\n",
    "    print(f\"Desconto INSS: R$ {inss:.2f}\")\n",
    "    print(f\"Desconto Sindicato: R$ {sindicato:.2f}\")\n",
    "    print(f\"Salário Líquido: R$ {salario_liquido:.2f}\")\n",
    "\n",
    "    return salario_liquido\n",
    "\n",
    "\n",
    "# Chama a função principal\n",
    "main()\n"
   ]
  },
  {
   "cell_type": "markdown",
   "id": "cfbfcc87",
   "metadata": {
    "id": "cfbfcc87"
   },
   "source": [
    "#### 13. Faça um programa para uma loja de tintas. O programa deverá pedir o tamanho em metros quadrados da área a ser pintada. Considere que a cobertura da tinta é de 1 litro para cada 3 metros quadrados e que a tinta é vendida em latas de 18 litros, que custam R\\$ 80,00. Informe ao usuário a quantidades de latas de tinta a serem compradas e o preço total."
   ]
  },
  {
   "cell_type": "code",
   "execution_count": 22,
   "id": "fb6a083b",
   "metadata": {
    "id": "fb6a083b"
   },
   "outputs": [
    {
     "name": "stdout",
     "output_type": "stream",
     "text": [
      "A quantidade de latas a serem compradas é: 31.00\n",
      "O custo total será: R$ 2480.00\n"
     ]
    }
   ],
   "source": [
    "def loja_tintas():\n",
    "    \"\"\"\n",
    "    Função que calcula a quantidade de latas de tinta necessárias para pintar uma área \n",
    "    e o custo total, com base no tamanho da área fornecido pelo usuário.\n",
    "    \n",
    "    O cálculo assume que cada lata de tinta cobre 18 metros quadrados e que cada lata custa R$ 80,00.\n",
    "    \n",
    "    Passos:\n",
    "    1. Solicita ao usuário a área a ser pintada (em metros quadrados).\n",
    "    2. Calcula a quantidade de litros necessários, considerando que 1 litro cobre 3 metros quadrados.\n",
    "    3. Determina o número de latas de tinta necessárias, arredondando para cima caso a quantidade de litros não seja um múltiplo exato de 18.\n",
    "    4. Calcula o preço total com base no número de latas.\n",
    "    5. Exibe a quantidade de latas e o custo total.\n",
    "    \"\"\"\n",
    "    # Loop para garantir que a entrada seja válida\n",
    "    while True:\n",
    "        try:\n",
    "            # Solicita a área a ser pintada\n",
    "            area = float(input(\"Informe o tamanho da área a ser pintada (em metros quadrados): \"))\n",
    "        except ValueError:\n",
    "            # Mensagem de erro caso o valor informado não seja válido\n",
    "            print(\"Entrada inválida. Por favor, insira um número válido para a área.\")\n",
    "            continue\n",
    "\n",
    "        # Calcula a quantidade de litros necessários\n",
    "        litros = area / 3\n",
    "\n",
    "        # Calcula o número de latas, arredondando para cima se necessário\n",
    "        latas = int(litros / 18)\n",
    "        if litros % 18 != 0:\n",
    "            latas = latas + 1\n",
    "\n",
    "        # Calcula o preço total\n",
    "        preco = latas * 80\n",
    "        \n",
    "        # Exibe a quantidade de latas e o custo total\n",
    "        print(f\"A quantidade de latas a serem compradas é: {latas:.2f}\")\n",
    "        print(f\"O custo total será: R$ {preco:.2f}\")\n",
    "        \n",
    "        # Sai do loop após a execução bem-sucedida\n",
    "        break\n",
    "\n",
    "# Chama a função para executar\n",
    "loja_tintas()\n"
   ]
  },
  {
   "cell_type": "markdown",
   "id": "d6503c92",
   "metadata": {
    "id": "d6503c92"
   },
   "source": [
    "#### 14. Faça um programa que peça o tamanho de um arquivo para download (em MB) e a velocidade de um link de Internet (em Mbps), calcule e informe o tempo aproximado de download do arquivo usando este link (em minutos).\n",
    "\n",
    "Detalhe: MB significa megabyte, Mb (com b minúsculo) significa megabit. Um megabit é 1/8 de um megabyte. "
   ]
  },
  {
   "cell_type": "code",
   "execution_count": 23,
   "id": "0563aa62",
   "metadata": {
    "id": "0563aa62"
   },
   "outputs": [
    {
     "name": "stdout",
     "output_type": "stream",
     "text": [
      "O tempo aproximado de download é: 18.63 minutos.\n"
     ]
    },
    {
     "data": {
      "text/plain": [
       "18.627200000000002"
      ]
     },
     "execution_count": 23,
     "metadata": {},
     "output_type": "execute_result"
    }
   ],
   "source": [
    "def dowload():\n",
    "    \"\"\"\n",
    "    Função que calcula o tempo aproximado de download de um arquivo com base no tamanho do arquivo e na velocidade de conexão do usuário.\n",
    "    \n",
    "    Passos:\n",
    "    1. Solicita ao usuário o tamanho do arquivo (em MB) e a velocidade da internet (em Mbps).\n",
    "    2. Converte a velocidade de Mbps para MB por segundo, dividindo por 8.\n",
    "    3. Calcula o tempo em segundos que levaria para baixar o arquivo e converte esse tempo para minutos.\n",
    "    4. Exibe o tempo aproximado de download.\n",
    "    \"\"\"\n",
    "    tamanho = None\n",
    "    velocidade = None\n",
    "\n",
    "    # Loop para garantir que as entradas sejam válidas\n",
    "    while tamanho is None or velocidade is None:\n",
    "        try:\n",
    "            # Solicita o tamanho do arquivo\n",
    "            if tamanho is None:\n",
    "                tamanho = float(input(\"Informe o tamanho do arquivo (em MB): \"))\n",
    "            # Solicita a velocidade da internet\n",
    "            if velocidade is None:\n",
    "                velocidade = float(input(\"Informe a velocidade de sua internet (em Mbps): \"))\n",
    "        except ValueError:\n",
    "            # Mensagem de erro caso o valor informado não seja válido\n",
    "            print(\"Entrada inválida, favor digitar um número válido.\")\n",
    "\n",
    "        # Converte a velocidade de Mbps para MB por segundo\n",
    "        converte_Mb_para_MB = velocidade / 8\n",
    "        \n",
    "        # Calcula o tempo de download em segundos e depois converte para minutos\n",
    "        MB_em_segundos = tamanho / converte_Mb_para_MB\n",
    "        MB_em_minutos = MB_em_segundos / 60\n",
    "        \n",
    "        # Exibe o tempo aproximado de download\n",
    "        print(f\"O tempo aproximado de download é: {MB_em_minutos:.2f} minutos.\")\n",
    "\n",
    "    # Retorna o tempo em minutos\n",
    "    return MB_em_minutos\n",
    "\n",
    "# Chama a função para executar\n",
    "dowload()\n"
   ]
  }
 ],
 "metadata": {
  "colab": {
   "provenance": []
  },
  "kernelspec": {
   "display_name": "Python 3",
   "language": "python",
   "name": "python3"
  },
  "language_info": {
   "codemirror_mode": {
    "name": "ipython",
    "version": 3
   },
   "file_extension": ".py",
   "mimetype": "text/x-python",
   "name": "python",
   "nbconvert_exporter": "python",
   "pygments_lexer": "ipython3",
   "version": "3.12.1"
  }
 },
 "nbformat": 4,
 "nbformat_minor": 5
}
